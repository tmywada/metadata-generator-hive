{
 "cells": [
  {
   "cell_type": "code",
   "execution_count": 1,
   "metadata": {},
   "outputs": [],
   "source": [
    "from libs import HandleValues, HandleBitmap\n",
    "from libs import load_config, generate_chunks\n",
    "from itertools import tee"
   ]
  },
  {
   "cell_type": "code",
   "execution_count": 2,
   "metadata": {},
   "outputs": [
    {
     "name": "stdout",
     "output_type": "stream",
     "text": [
      "{'chunk_size': 100, 'seed': 5963, 'file_path': './data/res.bz', 'data_types_supported': [{'name': 'float', 'is_numeric': True}, {'name': 'integer', 'is_numeric': True}, {'name': 'string', 'is_numeric': False}]}\n"
     ]
    }
   ],
   "source": [
    "config = load_config()\n",
    "print(config)"
   ]
  },
  {
   "cell_type": "code",
   "execution_count": 7,
   "metadata": {},
   "outputs": [],
   "source": [
    "iterable = (str(float(v)) for v in range(1001))"
   ]
  },
  {
   "cell_type": "code",
   "execution_count": 8,
   "metadata": {},
   "outputs": [
    {
     "data": {
      "text/plain": [
       "[{'data_type': 'float',\n",
       "  'count': 0,\n",
       "  'value_mean': 0,\n",
       "  'value_std': 0.0,\n",
       "  'length_mean': 0,\n",
       "  'length_std': 0.0},\n",
       " {'data_type': 'integer',\n",
       "  'count': 1001,\n",
       "  'value_mean': 500.0,\n",
       "  'value_std': 288.9636655359978,\n",
       "  'length_mean': 2.891108891108894,\n",
       "  'length_std': 0.34498095204459533},\n",
       " {'data_type': 'string',\n",
       "  'count': 0,\n",
       "  'value_mean': None,\n",
       "  'value_std': None,\n",
       "  'length_mean': 0,\n",
       "  'length_std': 0.0}]"
      ]
     },
     "execution_count": 8,
     "metadata": {},
     "output_type": "execute_result"
    }
   ],
   "source": [
    "hb = HandleBitmap(config)\n",
    "hv = HandleValues(config)\n",
    "\n",
    "for chunk in generate_chunks(iterable, config['chunk_size']):\n",
    "    chunk, _chunk = tee(chunk)\n",
    "    hb.update_bitmap(chunk)\n",
    "    hv.separate_values(_chunk)\n",
    "\n",
    "hb.save_bitmap()\n",
    "hv.generate_metadata_values()\n"
   ]
  },
  {
   "cell_type": "code",
   "execution_count": null,
   "metadata": {},
   "outputs": [],
   "source": []
  },
  {
   "cell_type": "code",
   "execution_count": 15,
   "metadata": {},
   "outputs": [
    {
     "data": {
      "text/plain": [
       "[{'data_type': 'float',\n",
       "  'count': 0,\n",
       "  'value_mean': 0,\n",
       "  'value_std': 0.0,\n",
       "  'length_mean': 0,\n",
       "  'length_std': 0.0},\n",
       " {'data_type': 'integer',\n",
       "  'count': 1000,\n",
       "  'value_mean': 499.5,\n",
       "  'value_std': 288.6749902572095,\n",
       "  'length_mean': 2.890000000000003,\n",
       "  'length_std': 0.34336569426778774},\n",
       " {'data_type': 'string',\n",
       "  'count': 0,\n",
       "  'value_mean': None,\n",
       "  'value_std': None,\n",
       "  'length_mean': 0,\n",
       "  'length_std': 0.0}]"
      ]
     },
     "execution_count": 15,
     "metadata": {},
     "output_type": "execute_result"
    }
   ],
   "source": [
    "hv.generate_metadata_values((str(v) for v in range(1000)))"
   ]
  },
  {
   "cell_type": "code",
   "execution_count": null,
   "metadata": {},
   "outputs": [
    {
     "name": "stdout",
     "output_type": "stream",
     "text": [
      "10\n",
      "integer\n",
      "2\n"
     ]
    }
   ],
   "source": [
    "a, b, c = hv.infer_data_type(str(10))\n",
    "print(a)\n",
    "print(b)\n",
    "print(c)"
   ]
  },
  {
   "cell_type": "code",
   "execution_count": 5,
   "metadata": {},
   "outputs": [],
   "source": [
    "from itertools import chain\n"
   ]
  },
  {
   "cell_type": "code",
   "execution_count": 20,
   "metadata": {},
   "outputs": [],
   "source": [
    "a = ()\n",
    "b = (2)\n",
    "\n",
    "a = chain(a, b)"
   ]
  },
  {
   "cell_type": "code",
   "execution_count": 17,
   "metadata": {},
   "outputs": [
    {
     "data": {
      "text/plain": [
       "itertools.chain"
      ]
     },
     "execution_count": 17,
     "metadata": {},
     "output_type": "execute_result"
    }
   ],
   "source": [
    "type(a)"
   ]
  },
  {
   "cell_type": "code",
   "execution_count": 21,
   "metadata": {},
   "outputs": [
    {
     "ename": "TypeError",
     "evalue": "'int' object is not iterable",
     "output_type": "error",
     "traceback": [
      "\u001b[0;31m---------------------------------------------------------------------------\u001b[0m",
      "\u001b[0;31mTypeError\u001b[0m                                 Traceback (most recent call last)",
      "Cell \u001b[0;32mIn[21], line 1\u001b[0m\n\u001b[0;32m----> 1\u001b[0m \u001b[39mlist\u001b[39;49m(a)\n",
      "\u001b[0;31mTypeError\u001b[0m: 'int' object is not iterable"
     ]
    }
   ],
   "source": [
    "list(a)"
   ]
  },
  {
   "cell_type": "code",
   "execution_count": 25,
   "metadata": {},
   "outputs": [
    {
     "ename": "TypeError",
     "evalue": "'int' object is not iterable",
     "output_type": "error",
     "traceback": [
      "\u001b[0;31m---------------------------------------------------------------------------\u001b[0m",
      "\u001b[0;31mTypeError\u001b[0m                                 Traceback (most recent call last)",
      "Cell \u001b[0;32mIn[25], line 4\u001b[0m\n\u001b[1;32m      1\u001b[0m a \u001b[39m=\u001b[39m (\u001b[39m1\u001b[39m,\u001b[39m2\u001b[39m)\n\u001b[1;32m      2\u001b[0m b \u001b[39m=\u001b[39m (\u001b[39m3\u001b[39m)\n\u001b[0;32m----> 4\u001b[0m \u001b[39mlist\u001b[39;49m(chain(a, b))\n",
      "\u001b[0;31mTypeError\u001b[0m: 'int' object is not iterable"
     ]
    }
   ],
   "source": [
    "a = (1,2)\n",
    "b = (3)\n",
    "\n",
    "list(chain(a, b))"
   ]
  },
  {
   "cell_type": "code",
   "execution_count": 16,
   "metadata": {},
   "outputs": [
    {
     "name": "stdout",
     "output_type": "stream",
     "text": [
      "6\n",
      "7\n"
     ]
    }
   ],
   "source": [
    "def generator():\n",
    "    yield 1\n",
    "    yield 2\n",
    "    yield 3\n",
    "\n",
    "def append_elements(existing_generator, additional_elements):\n",
    "    yield from existing_generator\n",
    "    yield from additional_elements\n",
    "\n",
    "existing_generator = ()\n",
    "additional_elements = [6, 7]\n",
    "\n",
    "# Append additional elements using a generator function\n",
    "appended_generator = append_elements(existing_generator, additional_elements)\n",
    "\n",
    "# Print the elements\n",
    "for element in appended_generator:\n",
    "    print(element)\n"
   ]
  },
  {
   "cell_type": "code",
   "execution_count": null,
   "metadata": {},
   "outputs": [],
   "source": []
  }
 ],
 "metadata": {
  "kernelspec": {
   "display_name": "metadata-generator-hive-mXTekhpl-py3.10",
   "language": "python",
   "name": "python3"
  },
  "language_info": {
   "codemirror_mode": {
    "name": "ipython",
    "version": 3
   },
   "file_extension": ".py",
   "mimetype": "text/x-python",
   "name": "python",
   "nbconvert_exporter": "python",
   "pygments_lexer": "ipython3",
   "version": "3.10.9"
  },
  "orig_nbformat": 4
 },
 "nbformat": 4,
 "nbformat_minor": 2
}
